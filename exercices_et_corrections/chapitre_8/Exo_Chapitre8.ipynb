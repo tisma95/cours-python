{
 "cells": [
  {
   "cell_type": "markdown",
   "id": "200c353f-2078-406e-b0bd-90d549c83b59",
   "metadata": {},
   "source": [
    "# Correction des exercices Chapitre 8 sur les chaines de caractères"
   ]
  },
  {
   "cell_type": "markdown",
   "id": "26d2712f-d9e1-4b93-a328-31e72923d38b",
   "metadata": {},
   "source": [
    "## Exercice 1"
   ]
  },
  {
   "cell_type": "markdown",
   "id": "10017879-46d6-45e7-992c-810eaa383ddb",
   "metadata": {},
   "source": [
    "**Objectifs:**\n",
    "\n",
    "Soit un utilisateur dont le nom d’utilisateur est « Christophe » et son mot de passe « chris1234 ».\n",
    "\n",
    "Ecrire un programme qui demande à l’utilisateur son nom d’utilisateur et son mot de passe, le programme doit afficher « Nom d’utilisateur et/ou mot de passe incorrect(s) ». \n",
    "\n",
    "Si l’une des deux valeurs est incorrecte sinon afficher « Bienvenue Christophe ! ».\n",
    "\n",
    "Une condition à respecter est d’appliquer l’égalité stricte sur le mot de passe pas sur le nom d’utilisateur c’est-à-dire si l’utilisateur écrit « christophe », « cHristophe »… ou le nom d’utilisateur avec des espaces en début ou fin tant que le mot de passe est correct il doit être accepté. Ne pas appliquer la différence entre majuscule et minuscule sur le nom d’utilisateur."
   ]
  },
  {
   "cell_type": "code",
   "execution_count": 1,
   "id": "4f4adccb-0119-4f6c-9976-90b5a1ffdd35",
   "metadata": {},
   "outputs": [],
   "source": [
    "# TODO"
   ]
  },
  {
   "cell_type": "markdown",
   "id": "280dd2e0-9c95-4ccc-befb-bf8eab4817a7",
   "metadata": {},
   "source": [
    "## Exercice 2"
   ]
  },
  {
   "attachments": {},
   "cell_type": "markdown",
   "id": "da99ad3a-e838-487f-a583-1323dc7bf6d9",
   "metadata": {},
   "source": [
    "**Objectifs:**\n",
    "\n",
    "Ecrire un programme qui demande un mot à l’utilisateur, ensuite le programme doit afficher le pluriel du mot. \n",
    "\n",
    "Par exemple ajouter « s » si le mot est du type « chat », pour les mots se terminant par « s » comme « souris » ne pas mettre au pluriel afficher le mot tel quel, si le mot se termine par « al » le pluriel deviendra « aux » comme « Cheval » qui donnera « Chevaux ». \n",
    "\n",
    "On ne tiendra pas compte des exceptions des pluriels de la langue française. \n",
    "\n",
    "Mettre le code qui va renvoyer le pluriel dans une fonction."
   ]
  },
  {
   "cell_type": "code",
   "execution_count": 2,
   "id": "9a862d6e-7ab3-44f9-81c6-344c54e161e5",
   "metadata": {},
   "outputs": [],
   "source": [
    "# TODO"
   ]
  },
  {
   "cell_type": "markdown",
   "id": "688e33ad-9d1a-4665-a102-575d4e81dc80",
   "metadata": {},
   "source": [
    "## Exercice 3"
   ]
  },
  {
   "cell_type": "markdown",
   "id": "01d775b9-ed73-4f5b-8a00-c979d4a3cf99",
   "metadata": {},
   "source": [
    "**Objectifs:**\n",
    "  \n",
    "La distance de Hamming entre deux mots de même longueur est le nombre d’endroits où les lettres sont différentes.\n",
    "    \n",
    "Par exemple: 𝑆𝐴𝑉𝑂𝑁 et J𝐴𝑃𝑂𝑁 ont 𝑝𝑜𝑢𝑟 𝑑𝑖𝑠𝑡𝑎𝑛𝑐𝑒 𝑑𝑒 𝐻𝑎𝑚𝑚𝑖𝑛𝑔 2\n",
    "Car la première lettre de Japon est différente de la première lettre de Savon, les troisièmes lettres aussi sont différentes.\n",
    "    \n",
    "Ecrire un programme qui demande à l’utilisateur deux mots de mêmes longueurs et ensuite affiche la distance de Hamming entre les deux mots.\n",
    "Attention on ne doit pas tenir compte des majuscules et des minuscules Japon, SAVON doit donner comme distance de Hamming 2.\n",
    "Afficher un message d’erreur si l’utilisateur fournir une chaine vide ou des mots de longueurs différentes.\n",
    "\n",
    "Le calcul de la valeur de Hamming doit être effectué dans une fonction qui prend en paramètre deux mots et renvoie un entier qui correspond à la distance de Hamming."
   ]
  },
  {
   "cell_type": "code",
   "execution_count": null,
   "id": "6491d3af-a31d-410c-ac85-fd1d05450a36",
   "metadata": {},
   "outputs": [],
   "source": [
    "# TODO"
   ]
  },
  {
   "cell_type": "markdown",
   "id": "387759a0-79ce-4f39-a1bc-0d4efabe3e99",
   "metadata": {},
   "source": [
    "## Exercice 4"
   ]
  },
  {
   "attachments": {},
   "cell_type": "markdown",
   "id": "071db20f-fe40-4196-9882-d83889d33736",
   "metadata": {},
   "source": [
    "**Objectifs:**\n",
    "\n",
    "Ecrire une fonction verlan(), qui permet de renvoyer un mot à l’envers. Par exemple 𝑣𝑒𝑟𝑙𝑎𝑛(\"𝑚𝑜𝑡\") doit renvoyer « tom ».\r\n",
    "\n",
    "Dans la fonction main écrire un programme qui va demander à l’utilisateur un mot et afficher le verlan du mot.\r\n"
   ]
  },
  {
   "cell_type": "code",
   "execution_count": null,
   "id": "a90d2a67-56da-4974-a864-7c08e00d2457",
   "metadata": {},
   "outputs": [],
   "source": [
    "# TODO"
   ]
  },
  {
   "cell_type": "markdown",
   "id": "77cbbd68-9a61-40c8-98c0-6dd21f6b30dd",
   "metadata": {},
   "source": [
    "## Exercice 5"
   ]
  },
  {
   "attachments": {},
   "cell_type": "markdown",
   "id": "61b377c0-50ec-4bbf-9a23-0fb3b3a577a3",
   "metadata": {},
   "source": [
    "**Objectifs:**\n",
    "\n",
    "Ecrire une fonction qui prend en paramètre un mot et renvoie True si le mot est un palindrome sinon False.\n",
    "\r\n",
    "Un palindrome est un mot qui s’écrit indifféremment de gauche à droite ou de droite à gauche. Peu importe le sens de lecture ou d’écriture on obtient le même mot. Par exemple « SOS » ou « RADAR » est un palindrome par contre « TOTO » n’est pas un palindrome car l’inverse donne   OTO  .\n",
    "/\r\n",
    "Ecrire un programme qui va demander un mot à l’utilisateotEnsuite le programme doit appeler la fonction de palindrome pour vérifier si le mot est un palindrome ou non et afficher r le résultat par exemple si l’utilisateur entre « TOTO » on doit afficher « Le mot ‘TOTO’ n’est pas un palindrome.\n",
    " »\r\n",
    "On doit gérer les cas d’erreur.\r\n"
   ]
  },
  {
   "cell_type": "code",
   "execution_count": 3,
   "id": "c34c69f3-c8fe-4623-a95b-a7677ebfb841",
   "metadata": {},
   "outputs": [],
   "source": [
    "# TODO"
   ]
  },
  {
   "cell_type": "markdown",
   "id": "de7a3f2c-17ec-4e31-9477-8cfcbc51bf2c",
   "metadata": {},
   "source": [
    "## Mini projet 1"
   ]
  },
  {
   "cell_type": "markdown",
   "id": "812c683b-ea87-453b-a58b-5b9e48261c17",
   "metadata": {},
   "source": [
    "**Objectifs:**\n",
    "\n",
    "Créer un programme qui lorsqu’il démarre affiche le menu suivant: verlan de mot, vérification palindrome, calcul de la distance de Hamming, nombre de mots d’une phrase, nombre de caractères dans une phrase (différent de l’espace), nombre de consonnes d’une phrase, nombre de voyelle d’une phrase. L’utilisateur devra faire le choix d’une option.\n",
    "\n",
    "En fonction du choix demander les paramètres à l’utilisateur par exemple si le choix est palindrome on demandera un mot à l’utilisateur, si le choix est le calcul de la distance de Hamming on demandera deux mots à l’utilisateur.\n",
    "\n",
    "Après saisie des paramètres si aucune erreur, afficher le résultat de l’opération.\n",
    "\n",
    "Certaines fonctions ont déjà été créées dans les exercices précédents importer les modules déjà créés et si nécessaire créer de nouveaux modules pour les autres opérations."
   ]
  },
  {
   "cell_type": "code",
   "execution_count": null,
   "id": "8a8c06e2-bdf3-4901-a365-75bca7f17da8",
   "metadata": {},
   "outputs": [],
   "source": [
    "# TODO: Code ici"
   ]
  },
  {
   "cell_type": "markdown",
   "id": "54d3218e-1dd3-4268-9a2d-9248818f0100",
   "metadata": {},
   "source": [
    "## Mini projet 2"
   ]
  },
  {
   "cell_type": "markdown",
   "id": "5da4fb6a-6b10-4aa2-8c8d-df27c54addf2",
   "metadata": {},
   "source": [
    "**Objectifs:**\n",
    "\n",
    "Une molécule d’ADN est formée d’environ six milliards de nucléotides. Dans un brin d’ADN il y’a seulement quatre types de nucléotides qui sont notés A, C, T ou G. Une séquence de d’ADN est donc un long mot de la forme: TAAATTACGA…. \n",
    "\n",
    "Ecrire une fonction presence_de_sequence() qui teste si une séquence de base contient une séquence de nucléotides donnée composée uniquement de A, C, T ou G. La fonction doit prendre en paramètres la séquence de base et la séquence à chercher.\n",
    "\n",
    "Un crime a été commis dans un château. On a récupéré deux brins d’ADN, provenant de deux positions éloignées de l’ADN du coupable. Il y’a quatre suspects, dont on a la séquence d’ADN. L’objectif est d’écrire un programme pour trouver le suspect.\n",
    "\n",
    "Premier code du coupable: CATA\n",
    "\n",
    "Deuxième code du couple: ATGC\n",
    "\n",
    "La liste des coupables:\n",
    "\n",
    "ADN du Mr Léo\n",
    "CCTGGAGGGTGGCCCCACCGGCCGAGACAGCGAGCATATGCAGGAAGCGGCAGGAATAAGGAAAAGCAGC\n",
    "\n",
    "ADN du Mlle Rose\n",
    "CTCCTGATGCTCCTCGCTTGGTGGTTTGAGTGGACCTCCCAGGCCAGTGCCGGGCCCCTCATAGGAGAGG\n",
    "\n",
    "ADN du Mr Bob\n",
    "AAGCTCGGGAGGTGGCCAGGCGGCAGGAAGGCGCACCCCCCCAGTACTCCGCGCGCCGGGACAGAATGCC\n",
    "\n",
    "ADN du Mme Prouesse\n",
    "CTGCAGGAACTTCTTCTGGAAGTACTTCTCCTCCTGCAAATAAAACCTCACCCATGAATGCTCACGCAAG"
   ]
  },
  {
   "cell_type": "code",
   "execution_count": null,
   "id": "184b0ff6-f3ac-419b-ad94-ba83a525a342",
   "metadata": {},
   "outputs": [],
   "source": [
    "# TODO: Code ici"
   ]
  }
 ],
 "metadata": {
  "kernelspec": {
   "display_name": "Python 3 (ipykernel)",
   "language": "python",
   "name": "python3"
  },
  "language_info": {
   "codemirror_mode": {
    "name": "ipython",
    "version": 3
   },
   "file_extension": ".py",
   "mimetype": "text/x-python",
   "name": "python",
   "nbconvert_exporter": "python",
   "pygments_lexer": "ipython3",
   "version": "3.11.4"
  }
 },
 "nbformat": 4,
 "nbformat_minor": 5
}

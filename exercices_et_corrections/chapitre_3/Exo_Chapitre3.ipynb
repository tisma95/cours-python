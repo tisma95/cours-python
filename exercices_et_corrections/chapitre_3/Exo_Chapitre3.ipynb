{
 "cells": [
  {
   "cell_type": "markdown",
   "id": "200c353f-2078-406e-b0bd-90d549c83b59",
   "metadata": {},
   "source": [
    "# Correction des exercices Chapitre 3 sur les Structures conditionnelles"
   ]
  },
  {
   "cell_type": "markdown",
   "id": "26d2712f-d9e1-4b93-a328-31e72923d38b",
   "metadata": {},
   "source": [
    "## Exercice 1"
   ]
  },
  {
   "cell_type": "raw",
   "id": "7392a176-4d9b-4445-bcf9-bc46c498c1f8",
   "metadata": {},
   "source": [
    "Objectifs: Réécrire le programme suivant en utilisant les opérateurs logiques.\n",
    "\n",
    "username = \"Christophe\"\n",
    "if username == \"Christophe\":\n",
    "    print(\"Bienvenue\")\n",
    "elif username == \"John\":\n",
    "    print(\"Bienvenue\")\n",
    "else:\n",
    "    print(\"Utilisateur inconnu\")"
   ]
  },
  {
   "cell_type": "code",
   "execution_count": 1,
   "id": "4f4adccb-0119-4f6c-9976-90b5a1ffdd35",
   "metadata": {},
   "outputs": [
    {
     "name": "stdout",
     "output_type": "stream",
     "text": [
      "Utilisateur inconnu\n"
     ]
    }
   ],
   "source": [
    "username = \"Christophes\"\n",
    "if username == \"Christophe\" or username == \"John\":\n",
    "    print(\"Bienvenue\")\n",
    "else:\n",
    "    print(\"Utilisateur inconnu\")"
   ]
  },
  {
   "cell_type": "markdown",
   "id": "58c02535-27b6-4548-99c5-2e47ab622e8e",
   "metadata": {},
   "source": [
    "## Exercice 2"
   ]
  },
  {
   "cell_type": "raw",
   "id": "99b821c2-fb66-41d5-b29e-ae2cd9e6d591",
   "metadata": {},
   "source": [
    "Objectifs: Ecrire un programme qui demande un nombre à l’utilisateur, et l’informe ensuite si ce nombre est positif ou négatif. \n",
    "On prendra en compte le cas où le nombre est nul."
   ]
  },
  {
   "cell_type": "code",
   "execution_count": 2,
   "id": "78b7831c-1f77-415e-b4da-6b0046ed3311",
   "metadata": {},
   "outputs": [
    {
     "name": "stdin",
     "output_type": "stream",
     "text": [
      "Entrer un nombre svp: 12\n"
     ]
    }
   ],
   "source": [
    "# Demander un nombre à l'utilisateur\n",
    "nbre = input(\"Entrer un nombre svp:\")\n",
    "nbre = int(nbre)"
   ]
  },
  {
   "cell_type": "code",
   "execution_count": 3,
   "id": "0d6084aa-d252-4023-b76d-feba6b872af6",
   "metadata": {},
   "outputs": [
    {
     "name": "stdout",
     "output_type": "stream",
     "text": [
      "Vous avez saisi le nombre: 12\n"
     ]
    }
   ],
   "source": [
    "print(\"Vous avez saisi le nombre:\", nbre)"
   ]
  },
  {
   "cell_type": "code",
   "execution_count": 4,
   "id": "4ba4277e-75fa-4b7b-aa72-a4eb36c5a0bb",
   "metadata": {},
   "outputs": [
    {
     "name": "stdout",
     "output_type": "stream",
     "text": [
      "Le nombre 12 est un nombre positif.\n"
     ]
    }
   ],
   "source": [
    "# Vérifions le signe du nombre\n",
    "if nbre < 0:\n",
    "    print(f\"Le nombre {nbre} est un nombre négatif.\")\n",
    "elif nbre > 0:\n",
    "    print(f\"Le nombre {nbre} est un nombre positif.\")\n",
    "else:\n",
    "    print(f\"Le nombre {nbre} est un nombre nul.\")"
   ]
  },
  {
   "cell_type": "markdown",
   "id": "e54e24a3-4917-4846-9d2d-a59fcd3b0fc9",
   "metadata": {},
   "source": [
    "## Exercice 3"
   ]
  },
  {
   "cell_type": "raw",
   "id": "472c70ec-0d3b-459d-80b4-93ce95623505",
   "metadata": {},
   "source": [
    "Objectifs: Ecrire un programme qui demande deux nombres à l’utilisateur et l’informe ensuite si leur produit est négatif ou positif ou nul."
   ]
  },
  {
   "cell_type": "code",
   "execution_count": 5,
   "id": "83145040-eed9-475f-9aef-e7ed13ddf66a",
   "metadata": {},
   "outputs": [
    {
     "name": "stdin",
     "output_type": "stream",
     "text": [
      "Veuillez entrer le nombre 1: 14\n"
     ]
    }
   ],
   "source": [
    "# Demander à l'utilisateur le premier nombre\n",
    "nbre1 = input(\"Veuillez entrer le nombre 1:\")\n",
    "# Convertion de la saisie de l'utilisateur qui est du type string alors qu'on a besoin du type int\n",
    "nbre1 = int(nbre1)"
   ]
  },
  {
   "cell_type": "code",
   "execution_count": 6,
   "id": "70be04a1-5244-471f-aabc-203111892fe0",
   "metadata": {},
   "outputs": [
    {
     "name": "stdout",
     "output_type": "stream",
     "text": [
      "Vous avez saisi le nombre 1: 14\n"
     ]
    }
   ],
   "source": [
    "print(\"Vous avez saisi le nombre 1:\", nbre1)"
   ]
  },
  {
   "cell_type": "code",
   "execution_count": 7,
   "id": "7f46e25e-e6d1-4bc7-b8bc-093b12243668",
   "metadata": {},
   "outputs": [
    {
     "name": "stdin",
     "output_type": "stream",
     "text": [
      "Veuillez entrer le nombre 2: 14\n"
     ]
    }
   ],
   "source": [
    "# Demander à l'utilisateur le deuxième nombre\n",
    "nbre2 = input(\"Veuillez entrer le nombre 2:\")\n",
    "# Convertion de la saisie de l'utilisateur qui est du type string alors qu'on a besoin du type int\n",
    "nbre2 = int(nbre2)"
   ]
  },
  {
   "cell_type": "code",
   "execution_count": 8,
   "id": "56332fa0-ef77-4e87-93f9-6df04c5a9c5c",
   "metadata": {},
   "outputs": [
    {
     "name": "stdout",
     "output_type": "stream",
     "text": [
      "Vous avez saisi le nombre 2: 14\n"
     ]
    }
   ],
   "source": [
    "print(\"Vous avez saisi le nombre 2:\", nbre2)"
   ]
  },
  {
   "cell_type": "code",
   "execution_count": 9,
   "id": "292ab43d-0368-45ad-80c4-c5d05d4c8f79",
   "metadata": {},
   "outputs": [],
   "source": [
    "# Calcul du résultat de la multiplication de nbre1 par nbre2\n",
    "produit = nbre1 * nbre2"
   ]
  },
  {
   "cell_type": "code",
   "execution_count": 10,
   "id": "0cc1ece2-616a-4b4d-8eef-522a495e2cca",
   "metadata": {},
   "outputs": [
    {
     "name": "stdout",
     "output_type": "stream",
     "text": [
      "Le résultat de 14 x 14 donne: 196\n"
     ]
    }
   ],
   "source": [
    "print(f\"Le résultat de {nbre1} x {nbre2} donne: {produit}\")"
   ]
  },
  {
   "cell_type": "code",
   "execution_count": 11,
   "id": "aa19adea-999b-4fee-a8cf-44a0b48430ba",
   "metadata": {},
   "outputs": [
    {
     "name": "stdout",
     "output_type": "stream",
     "text": [
      "Le produit de 14 par 14 est positif\n"
     ]
    }
   ],
   "source": [
    "# Analyse du signe du produit\n",
    "if produit < 0:\n",
    "    print(f\"Le produit de {nbre1} par {nbre2} est négatif\")\n",
    "elif produit > 0:\n",
    "    print(f\"Le produit de {nbre1} par {nbre2} est positif\")\n",
    "else:\n",
    "    print(f\"Le produit de {nbre1} par {nbre2} est nul\")"
   ]
  },
  {
   "cell_type": "markdown",
   "id": "93b355a0-c520-462d-a288-435c6eb73cc7",
   "metadata": {},
   "source": [
    "## Exercice 4"
   ]
  },
  {
   "cell_type": "raw",
   "id": "f2244549-b805-4a6c-9a27-b4b2db918df7",
   "metadata": {},
   "source": [
    "Objectifs: Ecrire un programme qui demande l’âge d’une personne à l’utilisateur. \n",
    "Ensuite, il l’informe de sa catégorie:\n",
    "Poussin de 0 à 7 ans, \n",
    "Pupille de 8 à 9 ans, \n",
    "Minime de 10 à 11 ans, \n",
    "Cadet de 12 à 17 ans, \n",
    "Junior de 18 à 49 ans\n",
    "et Senior après 50 ans."
   ]
  },
  {
   "cell_type": "code",
   "execution_count": 12,
   "id": "2ccec85e-c7a0-4e57-b78a-336ecd67d63c",
   "metadata": {},
   "outputs": [
    {
     "name": "stdin",
     "output_type": "stream",
     "text": [
      "Veuillez entrer un âge svp: 15\n"
     ]
    },
    {
     "name": "stdout",
     "output_type": "stream",
     "text": [
      "Vous avez saisi 15 ans\n"
     ]
    }
   ],
   "source": [
    "# Demander l'âge à l'utilisateur\n",
    "age = input(\"Veuillez entrer un âge svp:\")\n",
    "# Convertion en entier et affichage de la saisie de l'utilisateur\n",
    "age = int(age)\n",
    "if age < 2:\n",
    "    print(f\"Vous avez saisi {age} an\")\n",
    "else:\n",
    "    print(f\"Vous avez saisi {age} ans\")"
   ]
  },
  {
   "cell_type": "code",
   "execution_count": 13,
   "id": "929fe71b-387e-4d65-a3ca-9445ae74ab9e",
   "metadata": {},
   "outputs": [
    {
     "name": "stdout",
     "output_type": "stream",
     "text": [
      "L'âge 15 appartient à la catégorie Cadet\n"
     ]
    }
   ],
   "source": [
    "# Affichage de la catégorie de l'utilisateur\n",
    "categorie = \"Inconnue\"\n",
    "if age >= 0 and age <= 7:\n",
    "    categorie = \"Poussin\"\n",
    "elif age >= 8 and age <= 9:\n",
    "    categorie = \"Pupille\"\n",
    "elif age >= 10 and age <= 11:\n",
    "    categorie = \"Minime\"\n",
    "elif age >= 12 and age <= 17:\n",
    "    categorie = \"Cadet\"\n",
    "elif age >= 18 and age <= 49:\n",
    "    categorie = \"Junior\"\n",
    "elif age >= 50:\n",
    "    categorie = \"Senior\"\n",
    "print(f\"L'âge {age} appartient à la catégorie {categorie}\")"
   ]
  },
  {
   "cell_type": "markdown",
   "id": "86ed1dbb-9ddc-4d20-ac8d-b021833cfb29",
   "metadata": {},
   "source": [
    "# Exercice 5"
   ]
  },
  {
   "cell_type": "raw",
   "id": "6e6ae47d-541a-4681-9bf0-95850bd84fb9",
   "metadata": {},
   "source": [
    "Objectifs: Soit un utilisateur dont le nom d’utilisateur est « Christophe » et son mot de passe « chris1234 ».\n",
    "Ecrire un programme qui demande à l’utilisateur son nom d’utilisateur et son mot de passe, le programme\n",
    "doit afficher « Nom d’utilisateur et/ou mot de passe incorrect(s) » si l’une des deux valeurs est incorrecte\n",
    "sinon afficher « Bienvenue Christophe ! »."
   ]
  },
  {
   "cell_type": "code",
   "execution_count": 14,
   "id": "cfe0530d-42d8-4fa6-89b0-21ff4463cdd7",
   "metadata": {},
   "outputs": [],
   "source": [
    "# Saisie des secrets => pour éviter de modifier dans le code les valeurs\n",
    "secretUtilisateur = \"Christophe\"\n",
    "secretMotDePasse = \"chris1234\""
   ]
  },
  {
   "cell_type": "code",
   "execution_count": 15,
   "id": "681f609e-1686-40e4-a5d6-fc6baba34c2f",
   "metadata": {},
   "outputs": [
    {
     "name": "stdin",
     "output_type": "stream",
     "text": [
      "Entrer votre nom d'utilisateur: Christophe\n",
      "Entrer votre mot de passe: dfdfdf\n"
     ]
    },
    {
     "name": "stdout",
     "output_type": "stream",
     "text": [
      "Vous avez saisi comme nom d'utilisateur: Christophe\n",
      "Vous avez saisi comme mot de passe: dfdfdf\n"
     ]
    }
   ],
   "source": [
    "# Demander à l'utilisateur son nom d'utilisateur et son mot de passe\n",
    "nomUtilisateur = input(\"Entrer votre nom d'utilisateur:\")\n",
    "motDePasse = input(\"Entrer votre mot de passe:\")\n",
    "print(\"Vous avez saisi comme nom d'utilisateur:\", nomUtilisateur)\n",
    "print(\"Vous avez saisi comme mot de passe:\", motDePasse)"
   ]
  },
  {
   "cell_type": "code",
   "execution_count": 16,
   "id": "f56649bd-7a0c-4f64-a30f-4441106e660a",
   "metadata": {},
   "outputs": [
    {
     "name": "stdout",
     "output_type": "stream",
     "text": [
      "Nom d’utilisateur et/ou mot de passe incorrect(s)\n"
     ]
    }
   ],
   "source": [
    "if nomUtilisateur == secretUtilisateur and motDePasse == secretMotDePasse:\n",
    "    print(\"Bienvenue\", secretUtilisateur)\n",
    "else:\n",
    "    print(\"Nom d’utilisateur et/ou mot de passe incorrect(s)\")"
   ]
  },
  {
   "cell_type": "markdown",
   "id": "da75bda6-0ce1-4f08-9da9-e7d65b2160e4",
   "metadata": {},
   "source": [
    "## Exercice 6"
   ]
  },
  {
   "cell_type": "raw",
   "id": "b5be5e2c-019a-4706-83da-e3d2a2520b3a",
   "metadata": {},
   "source": [
    " Objectifs: Reprendre le programme de l’exercice 5 mais cette fois-ci donner une indication sur l’erreur de l’utilisateur comme \n",
    "« Nom d’utilisateur incorrect ! » ou \n",
    "« Mot de passe incorrect ! » ou \n",
    "« Nom d’utilisateur et mot de passe incorrects ! »."
   ]
  },
  {
   "cell_type": "code",
   "execution_count": 17,
   "id": "20118307-9b68-4acf-91f4-bf1d8339f0f8",
   "metadata": {},
   "outputs": [],
   "source": [
    "# Saisie des secrets => pour éviter de modifier dans le code les valeurs\n",
    "secretUtilisateur = \"Christophe\"\n",
    "secretMotDePasse = \"chris1234\""
   ]
  },
  {
   "cell_type": "code",
   "execution_count": 18,
   "id": "1b8ffa6d-d6bc-4845-936d-8638fb748c85",
   "metadata": {},
   "outputs": [
    {
     "name": "stdin",
     "output_type": "stream",
     "text": [
      "Entrer votre nom d'utilisateur: Christophe\n",
      "Entrer votre mot de passe: fdfd\n"
     ]
    },
    {
     "name": "stdout",
     "output_type": "stream",
     "text": [
      "Vous avez saisi comme nom d'utilisateur: Christophe\n",
      "Vous avez saisi comme mot de passe: fdfd\n"
     ]
    }
   ],
   "source": [
    "# Demander à l'utilisateur son nom d'utilisateur et son mot de passe\n",
    "nomUtilisateur = input(\"Entrer votre nom d'utilisateur:\")\n",
    "motDePasse = input(\"Entrer votre mot de passe:\")\n",
    "print(\"Vous avez saisi comme nom d'utilisateur:\", nomUtilisateur)\n",
    "print(\"Vous avez saisi comme mot de passe:\", motDePasse)"
   ]
  },
  {
   "cell_type": "code",
   "execution_count": 19,
   "id": "189e2bb8-f021-413b-9405-c2cc9e424b38",
   "metadata": {},
   "outputs": [
    {
     "name": "stdout",
     "output_type": "stream",
     "text": [
      "Mot de passe incorrect\n"
     ]
    }
   ],
   "source": [
    "# Méthode 1: sans imbrication\n",
    "if nomUtilisateur == secretUtilisateur and motDePasse == secretMotDePasse:\n",
    "    print(\"Bienvenue\", secretUtilisateur)\n",
    "elif nomUtilisateur != secretUtilisateur and motDePasse != secretMotDePasse:\n",
    "    print(\"Nom d’utilisateur et mot de passe incorrects\")\n",
    "elif nomUtilisateur != secretUtilisateur:\n",
    "    print(\"Nom d’utilisateur incorrect\")\n",
    "else:\n",
    "    print(\"Mot de passe incorrect\")"
   ]
  },
  {
   "cell_type": "code",
   "execution_count": 20,
   "id": "32fc31e7-8d31-491a-86fe-6d5f1d8465f4",
   "metadata": {},
   "outputs": [
    {
     "name": "stdout",
     "output_type": "stream",
     "text": [
      "Mot de passe incorrect\n"
     ]
    }
   ],
   "source": [
    "# Méthode 2: avec imbrication\n",
    "if nomUtilisateur == secretUtilisateur and motDePasse == secretMotDePasse:\n",
    "    print(\"Bienvenue\", secretUtilisateur)\n",
    "else:\n",
    "    if nomUtilisateur != secretUtilisateur and motDePasse != secretMotDePasse:\n",
    "        print(\"Nom d’utilisateur et mot de passe incorrects\")\n",
    "    elif nomUtilisateur != secretUtilisateur:\n",
    "        print(\"Nom d’utilisateur incorrect\")\n",
    "    else:\n",
    "        print(\"Mot de passe incorrect\")"
   ]
  },
  {
   "cell_type": "code",
   "execution_count": 21,
   "id": "9b035b8d-4236-4847-b730-6a2b2e1789a8",
   "metadata": {},
   "outputs": [
    {
     "name": "stdout",
     "output_type": "stream",
     "text": [
      "Mot de passe incorrect\n"
     ]
    }
   ],
   "source": [
    "# Méthode 3: avec multiple imbrications\n",
    "if nomUtilisateur == secretUtilisateur and motDePasse == secretMotDePasse:\n",
    "    print(\"Bienvenue\", secretUtilisateur)\n",
    "else:\n",
    "    if nomUtilisateur != secretUtilisateur and motDePasse != secretMotDePasse:\n",
    "        print(\"Nom d’utilisateur et mot de passe incorrects\")\n",
    "    else:\n",
    "        if nomUtilisateur != secretUtilisateur:\n",
    "            print(\"Nom d’utilisateur incorrect\")\n",
    "        else:\n",
    "            print(\"Mot de passe incorrect\")"
   ]
  }
 ],
 "metadata": {
  "kernelspec": {
   "display_name": "Python 3 (ipykernel)",
   "language": "python",
   "name": "python3"
  },
  "language_info": {
   "codemirror_mode": {
    "name": "ipython",
    "version": 3
   },
   "file_extension": ".py",
   "mimetype": "text/x-python",
   "name": "python",
   "nbconvert_exporter": "python",
   "pygments_lexer": "ipython3",
   "version": "3.11.4"
  }
 },
 "nbformat": 4,
 "nbformat_minor": 5
}
